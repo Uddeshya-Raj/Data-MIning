{
 "cells": [
  {
   "cell_type": "code",
   "execution_count": 1,
   "metadata": {},
   "outputs": [],
   "source": [
    "import json\n",
    "import random\n",
    "import numpy as np\n",
    "import matplotlib.pyplot as plt"
   ]
  },
  {
   "cell_type": "code",
   "execution_count": 2,
   "metadata": {},
   "outputs": [],
   "source": [
    "with open('other_jsons/sanskrit_dict.json','r') as json_file:\n",
    "    dictionary = json.load(json_file)\n",
    "\n",
    "with open('other_jsons/word_freq.json', 'r') as json_file:\n",
    "    count_lookup = json.load(json_file)\n",
    "\n",
    "with open('other_jsons/time.json', 'r') as json_file:\n",
    "    time_lookup = json.load(json_file)\n",
    "    \n",
    "word_list = [key for key,value in dictionary.items()]\n"
   ]
  },
  {
   "cell_type": "code",
   "execution_count": 3,
   "metadata": {},
   "outputs": [],
   "source": [
    "word = random.choice(word_list)"
   ]
  },
  {
   "cell_type": "code",
   "execution_count": 79,
   "metadata": {},
   "outputs": [],
   "source": [
    "def graph_this(word, ax, label, offset=0, color='#F4C430', abs=True, yr_range=[-1500, 1200]):\n",
    "    buckets = np.array(27 * [0])\n",
    "    word_info = count_lookup.get(f'{word}', [])\n",
    "\n",
    "    if len(word_info):\n",
    "        for book_info in word_info:\n",
    "            book_name = book_info['name']\n",
    "            time = time_lookup.get(f'{book_name}', (0, 0))\n",
    "            idx_range = [(time[0] // 100) + 15, (time[1] // 100) + 15]\n",
    "            count = book_info['count']\n",
    "            for idx in range(idx_range[0], idx_range[1]):\n",
    "                buckets[idx] += count\n",
    "\n",
    "        total = np.sum(buckets)\n",
    "        for i in range(len(buckets)):\n",
    "            if not abs:\n",
    "                buckets[i] = buckets[i] * 100 / total\n",
    "\n",
    "        req_start_idx = (max(yr_range[0], -1500) // 100) + 15\n",
    "        req_end_idx = (min(yr_range[1], 1200) // 100) + 15\n",
    "        bucket_labels = [i for i in range(max(yr_range[0], -1500), min(yr_range[1], 1200), 100)]\n",
    "        bucket_width = np.diff(bucket_labels) * 0.4  # Reduce width to fit two bars side by side\n",
    "\n",
    "        # Shift the position of the bars by the offset\n",
    "        ax.bar(np.array(bucket_labels[:-1]) + offset, buckets[req_start_idx: req_end_idx - 1], width=bucket_width, edgecolor='black', align='edge', color=color, label=label)\n",
    "        ax.set_xlabel('Years')\n",
    "        if not abs:\n",
    "            ax.set_ylabel('Percentage of occurrences')\n",
    "        else:\n",
    "            ax.set_ylabel('Frequency of occurrences')\n",
    "\n",
    "    else:\n",
    "        print(\"Occurrence of the word not profiled yet\")"
   ]
  },
  {
   "cell_type": "code",
   "execution_count": 56,
   "metadata": {},
   "outputs": [],
   "source": [
    "import colorsys\n",
    "import random\n",
    "\n",
    "def generate_distinct_colors(n):\n",
    "    colors = []\n",
    "    for i in range(n):\n",
    "        # Generate evenly spaced hues\n",
    "        hue = i / n\n",
    "        rgb = colorsys.hsv_to_rgb(hue, 1.0, 1.0)  # Full saturation and value\n",
    "        # Convert RGB from 0-1 range to 0-255 and format as hex\n",
    "        hex_color = \"#{:02X}{:02X}{:02X}\".format(int(rgb[0] * 255), int(rgb[1] * 255), int(rgb[2] * 255))\n",
    "        # Ensure white is not in the list\n",
    "        if hex_color != \"#FFFFFF\":\n",
    "            colors.append(hex_color)\n",
    "\n",
    "    # Shuffle to avoid sequential hues\n",
    "    random.shuffle(colors)\n",
    "    return colors\n"
   ]
  },
  {
   "cell_type": "code",
   "execution_count": 83,
   "metadata": {},
   "outputs": [],
   "source": [
    "word2 = \"akaly\\u0101\\u1e47a\"\n",
    "word3 = \"akara\\u1e47a\""
   ]
  },
  {
   "cell_type": "code",
   "execution_count": 80,
   "metadata": {},
   "outputs": [],
   "source": [
    "def graph_these(words, abs = True, yr_range = [-1500,1200]):\n",
    "    fig, ax = plt.subplots()\n",
    "    n = len(words)\n",
    "    offsets = [(i*20)-(n-1)*10 for i in range(n)]\n",
    "    colors = generate_distinct_colors(n)\n",
    "    for i in range(n):\n",
    "        graph_this(words[i], ax, abs=abs,yr_range=yr_range, label = f\"{words[i]}\", offset = offsets[i], color=colors[i])\n",
    "    ax.legend()\n",
    "    plt.show()"
   ]
  },
  {
   "cell_type": "code",
   "execution_count": 84,
   "metadata": {},
   "outputs": [
    {
     "data": {
      "image/png": "[encoded data removed]",
      "text/plain": [
       "<Figure size 640x480 with 1 Axes>"
      ]
     },
     "metadata": {},
     "output_type": "display_data"
    }
   ],
   "source": [
    "graph_these([word, word2, word3], abs=True, yr_range=[-1000,1000])"
   ]
  },
  {
   "cell_type": "code",
   "execution_count": 8,
   "metadata": {},
   "outputs": [
    {
     "data": {
      "text/plain": [
       "[{'name': 'Arthaśāstra',\n",
       "  'examples': ['āśrayakārī sampannaghātī pārṣṇir āsāro madhyama udāsīno vā pratikartavyaḥ saṃkaṭo mārgaḥ śodhayitavyaḥ kośo daṇḍo mitrāmitrāṭavībalaṃ viṣṭir ṛtur vā pratīkṣyāḥ kṛtadurgakarmanicayarakṣākṣayaḥ krītabalanirvedo mitrabalanirvedaś cāgamiṣyati upajapitāro vā nātitvarayanti śatrur abhiprāyaṃ vā pūrayiṣyati iti śanair yāyāt viparyaye śīghram '],\n",
       "  'count': 1},\n",
       " {'name': 'Atharvaprāyaścittāni',\n",
       "  'examples': ['yadi prayāyād anugacched vā saṃvatsaraṃ saṃvatsarābhiprāyo vā yadi tvared brahmaudanaṃ paktvā punaḥ samidham abhyādadhyāt '],\n",
       "  'count': 1},\n",
       " {'name': 'Aṣṭasāhasrikā',\n",
       "  'examples': [\"teṣāṃ vigrahītukāmānāṃ vivaditukāmānāṃ virodhayitukāmānāṃ na te 'bhiprāyāḥ paripūriṃ gamiṣyanti \",\n",
       "   \"teṣāṃ vigrahītukāmānāṃ vivaditukāmānāṃ virodhayitukāmānāṃ na te 'bhiprāyāḥ paripūriṃ gamiṣyanti \",\n",
       "   'atha khalvanyatīrthyānāṃ parivrājakānām upālambhābhiprāyāṇāṃ śataṃ tasyāṃ velāyāṃ yena bhagavāṃstenopasaṃkrāmati sma '],\n",
       "  'count': 8},\n",
       " {'name': 'Aṣṭādhyāyī',\n",
       "  'examples': ['svaritañitaḥ kartrabhiprāye kriyāphale '],\n",
       "  'count': 1},\n",
       " {'name': 'Bṛhatkathāślokasaṃgraha',\n",
       "  'examples': ['atha tau prahvamūrdhānau svāmyabhiprāyavedinau ',\n",
       "   'vijñātāsmadabhiprāyo na nivarteta yad vayam ',\n",
       "   'mamābhiprāyam ūhitvā lajjamāneva sābravīt '],\n",
       "  'count': 8},\n",
       " {'name': 'Carakasaṃhitā',\n",
       "  'examples': ['tataḥ śīlaśaucācārānurāgadākṣyaprādakṣiṇyopapannān upacārakuśalān sarvakarmasu paryavadātān sūpaudanapācakasnāpakasaṃvāhakotthāpakasaṃveśakauṣadhapeṣakāṃśca paricārakān sarvakarmasv apratikūlān tathā gītavāditrollāpakaślokagāthākhyāyiketihāsapurāṇakuśalān abhiprāyajñān anumatāṃśca deśakālavidaḥ pāriṣadyāṃśca tathā lāvakapiñjalaśaśahariṇaiṇakālapucchakamṛgamātṛkorabhrān gāṃ dogdhrīṃ śīlavatīmanāturāṃ jīvadvatsāṃ suprativihitatṛṇaśaraṇapānīyāṃ pātryācamanīyodakoṣṭhamaṇikaghaṭapiṭharaparyogakumbhīkumbhakuṇḍaśarāvadarvīkaṭodañcanaparipacanamanthānacarmacelasūtrakārpāsorṇādīni ca śayanāsanādīni copanyastabhṛṅgārapratigrahāṇi suprayuktāstaraṇottarapracchadopadhānāni sopāśrayāṇi saṃveśanopaveśanasnehasvedābhyaṅgapradehapariṣekānulepanavamanavirecanāsthāpanānuvāsanaśirovirecanamūtroccārakarmaṇām upacārasukhāni suprakṣālitopadhānāśca suślakṣṇasvaramadhyamā dṛṣadaḥ śastrāṇi copakaraṇārthāni dhūmanetraṃ ca bastinetraṃ cottarabastikaṃ ca kuśahastakaṃ ca tulāṃ ca mānabhāṇḍaṃ ca ghṛtatailavasāmajjakṣaudraphāṇitalavaṇendhanodakamadhusīdhusurāsauvīrakatuṣodakamaireyamedakadadhidadhimaṇḍodasviddhānyāmlamūtrāṇi ca tathā śāliṣaṣṭikamudgamāṣayavatilakulatthabadaramṛdvīkākāśmaryaparūṣakābhayāmalakavibhītakāni nānāvidhāni ca snehasvedopakaraṇāni dravyāṇi tathaivordhvaharānulomikobhayabhāñji saṃgrahaṇīyadīpanīyapācanīyopaśamanīyavātaharādisamākhyātāni cauṣadhāni yaccānyadapi kiṃcid vyāpadaḥ parisaṃkhyāya pratīkārārthamupakaraṇaṃ vidyāt yacca pratibhogārthaṃ tattadupakalpayet ',\n",
       "   'dvau jvarāviti uṣṇābhiprāyaḥ śītasamutthaśca śītābhiprāyaścoṣṇasamutthaḥ dvau vraṇāviti nijaścāgantujaśca dvāvāyāmāviti bāhyaścābhyantaraśca dve gṛdhrasyāviti vātād vātakaphācca dve kāmale iti koṣṭhāśrayā śākhāśrayā ca dvividhamāmamiti alasako visūcikā ca dvividhaṃ vātaraktamiti gambhīramuttānaṃ ca dvividhānyarśāṃsīti śuṣkāṇyārdrāṇi ca ',\n",
       "   'vidyād dravyaguṇān karturabhiprāyāḥ pṛthagvidhāḥ '],\n",
       "  'count': 7},\n",
       " {'name': 'Daśakumāracarita',\n",
       "  'examples': ['punarapi rājavāhanaṃ samyagālokya asyāṃ līlāvanau pāṇḍuratānimittaṃ kim iti sābhiprāyaṃ vihasyāpṛcchat ',\n",
       "   'sā tu tāvataivonnītamadabhiprāyā tān sapraṇāmam abhyetya bhadramukhāḥ mamaiṣa putro vāyugrastaściraṃ cikitsitaḥ '],\n",
       "  'count': 2},\n",
       " {'name': 'Divyāvadāna',\n",
       "  'examples': ['na khalu rājño mūrdhātasya śakrasya devānāmindrasyaikāsane niṣaṇṇayoḥ kaścidviśeṣo vā abhiprāyo vā nānākaraṇaṃ vā yaduta ārohapariṇāhau varṇapuṣkalatā svaraguptyā svaragupteḥ nānyatra śakrasya devānāmindrasyānimiṣatena '],\n",
       "  'count': 1},\n",
       " {'name': 'Gṛhastharatnākara',\n",
       "  'examples': ['atra kanyāvarayor mātṛpitṛdānarahita iti svayaṃvaragāndharvvābhiprāyaḥ '],\n",
       "  'count': 1}]"
      ]
     },
     "execution_count": 8,
     "metadata": {},
     "output_type": "execute_result"
    }
   ],
   "source": [
    "word_info"
   ]
  },
  {
   "cell_type": "code",
   "execution_count": null,
   "metadata": {},
   "outputs": [],
   "source": []
  }
 ],
 "metadata": {
  "kernelspec": {
   "display_name": "Python 3",
   "language": "python",
   "name": "python3"
  },
  "language_info": {
   "codemirror_mode": {
    "name": "ipython",
    "version": 3
   },
   "file_extension": ".py",
   "mimetype": "text/x-python",
   "name": "python",
   "nbconvert_exporter": "python",
   "pygments_lexer": "ipython3",
   "version": "3.12.6"
  }
 },
 "nbformat": 4,
 "nbformat_minor": 2
}
