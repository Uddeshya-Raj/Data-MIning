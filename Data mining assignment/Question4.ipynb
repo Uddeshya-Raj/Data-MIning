{
 "cells": [
  {
   "cell_type": "code",
   "execution_count": 3,
   "metadata": {},
   "outputs": [],
   "source": [
    "import pandas as pd\n",
    "import numpy as np\n",
    "from tabulate import tabulate\n",
    "from pickleshare import *"
   ]
  },
  {
   "cell_type": "code",
   "execution_count": 4,
   "metadata": {},
   "outputs": [],
   "source": [
    "# using pickelshare to temporarily store some variables to transfer them to other notebooks\n",
    "db = PickleShareDB(os.path.join(os.getcwd(),'SharedVars'))\n",
    "# db.clear()"
   ]
  },
  {
   "cell_type": "markdown",
   "metadata": {},
   "source": [
    "For every year, find the change in outgoing tourists in absolute and percentage terms from the last year.<br>\n",
    "Do this for every month and the year as a whole.<br>\n",
    "Which years show the highest positive and negative changes?<br>\n",
    "For each month, find the changes across the entire data from the previous month.<br>\n",
    "Which months show the highest positive and negative changes?<br>"
   ]
  },
  {
   "cell_type": "code",
   "execution_count": 5,
   "metadata": {},
   "outputs": [],
   "source": [
    "years = ['2013','2014','2016','2017','2018','2019','2020','2021','2022']\n",
    "months = [\"January\", \"February\", \"March\", \"April\", \"May\", \"June\", \"July\", \"August\", \n",
    "          \"September\", \"October\", \"November\", \"December\"]"
   ]
  },
  {
   "cell_type": "code",
   "execution_count": 6,
   "metadata": {},
   "outputs": [],
   "source": [
    "## to add comma after every thousandth place in number to avoid scientific notation conversion by tabular\n",
    "def format_number(num):\n",
    "    return f\"{num:,}\""
   ]
  },
  {
   "cell_type": "code",
   "execution_count": 7,
   "metadata": {},
   "outputs": [
    {
     "name": "stdout",
     "output_type": "stream",
     "text": [
      "                  2013      2014      2016      2017      2018      2019  \\\n",
      "January        1424291   1518285   1866995   1962619   2238035   2309062   \n",
      "February       1285813   1328360   1605765   1714399   1839947   1992487   \n",
      "March          1287728   1463879   1731968   1846395   2099266   2203115   \n",
      "April          1395879   1561150   1912473   2047568   2321632   2202018   \n",
      "May            1591906   1744621   2128686   2312939   2521860   2384815   \n",
      "June           1320676   1573931   1693204   1781817   2054526   2198582   \n",
      "July           1415677   1327984   1701014   1938221   2150580   2180437   \n",
      "August         1593409   1688554   2001816   2118235   2272537   2351701   \n",
      "September      1640118   1697955   1942743   2232437   2434217   2354445   \n",
      "October        1218333   1490000   1725665   1999069   2074788   2145065   \n",
      "November       1438279   1388722   1721215   1856300   2087972   2147330   \n",
      "December       1566117   1566514   1840451   2132958   2201124   2355977   \n",
      "Annual Total  17178226  18349955  21871995  23942957  26296484  26825034   \n",
      "\n",
      "                 2020     2021      2022  \n",
      "January       2353147   689366   1304132  \n",
      "February      1983289   653071   1158239  \n",
      "March          851332   709010   1498482  \n",
      "April            6533   634663   1564581  \n",
      "May             22912   154873   1934175  \n",
      "June            68802   150717   1901784  \n",
      "July           135227   223956   1830798  \n",
      "August         211511   661188   2160605  \n",
      "September      304780   962026   2181964  \n",
      "October        372362  1096257   1999753  \n",
      "November       409155  1188345   1913010  \n",
      "December       575516  1427843   2155211  \n",
      "Annual Total  7294566  8551315  21602734  \n"
     ]
    }
   ],
   "source": [
    "data = []\n",
    "for y in years:\n",
    "    df = pd.read_excel(rf\"data\\TourismData-{y}\\MONTH WISE NUMBER & PERCENTAGE SHARE OF INDIAN NATIONALS’ DEPARTURES FROM INDIA.xlsx\") ## to store pandas dataframe\n",
    "    df.set_index(\"Month\", inplace=True)\n",
    "    df.index.name = None\n",
    "    df.columns = [y]\n",
    "    df.loc['Annual Total'] = df.sum()\n",
    "    data.append(df)\n",
    "\n",
    "merged_df = pd.concat(data,axis=1);\n",
    "print(merged_df)\n"
   ]
  },
  {
   "cell_type": "code",
   "execution_count": 8,
   "metadata": {},
   "outputs": [],
   "source": [
    "df_matrix = merged_df.to_numpy()\n",
    "# print(df_matrix)"
   ]
  },
  {
   "cell_type": "code",
   "execution_count": 9,
   "metadata": {},
   "outputs": [],
   "source": [
    "change = []\n",
    "for i in range(len(df_matrix)):\n",
    "    change.append([df_matrix[i][j]-df_matrix[i][j-1] for j in range(1,len(df_matrix[i]))])\n",
    "change = np.array(change)\n",
    "# print(change)"
   ]
  },
  {
   "cell_type": "code",
   "execution_count": 10,
   "metadata": {},
   "outputs": [],
   "source": [
    "change_percent = []\n",
    "for i in range(len(change)):\n",
    "    change_percent.append([round(change[i][j]*100/df_matrix[i][j],2) for j in range(len(change[i]))])\n",
    "change_percent = np.array(change_percent)\n",
    "# print(change_percent)"
   ]
  },
  {
   "cell_type": "code",
   "execution_count": 11,
   "metadata": {},
   "outputs": [],
   "source": [
    "rows = months+[\"Overall\"]\n",
    "years_ = ['2014','2016','2017','2018','2019','2020','2021','2022']\n",
    "\n",
    "change_df = pd.DataFrame(np.vectorize(format_number)(change), columns=years_, index=rows)\n",
    "change_pdf = pd.DataFrame(np.vectorize(format_number)(change_percent), columns=years_, index=rows)\n",
    "\n",
    "max_positive_change = np.array([years_[np.argmax(monthly_data)] for monthly_data in change])\n",
    "max_negative_change = np.array([years_[np.argmin(monthly_data)] for monthly_data in change])\n",
    "max_min_change = np.column_stack((max_positive_change, max_negative_change))\n",
    "\n",
    "max_positive_change_p = np.array([years_[np.argmax(monthly_data)] for monthly_data in change_percent])\n",
    "max_negative_change_p = np.array([years_[np.argmin(monthly_data)] for monthly_data in change_percent])\n",
    "max_min_change_p = np.column_stack((max_positive_change_p, max_negative_change_p))\n",
    "\n",
    "columns = [\"year with maximum positive change\", \"year with maximum negative change\"]\n",
    "\n",
    "min_max_df = pd.DataFrame(max_min_change, columns=columns, index=rows)\n",
    "min_max_pdf = pd.DataFrame(max_min_change_p, columns=columns, index=rows)"
   ]
  },
  {
   "cell_type": "code",
   "execution_count": 12,
   "metadata": {},
   "outputs": [
    {
     "name": "stdout",
     "output_type": "stream",
     "text": [
      "+-----------+-----------+-----------+-----------+-----------+----------+-------------+------------+------------+\n",
      "|           | 2014      | 2016      | 2017      | 2018      | 2019     | 2020        | 2021       | 2022       |\n",
      "+===========+===========+===========+===========+===========+==========+=============+============+============+\n",
      "| January   | 93,994    | 348,710   | 95,624    | 275,416   | 71,027   | 44,085      | -1,663,781 | 614,766    |\n",
      "+-----------+-----------+-----------+-----------+-----------+----------+-------------+------------+------------+\n",
      "| February  | 42,547    | 277,405   | 108,634   | 125,548   | 152,540  | -9,198      | -1,330,218 | 505,168    |\n",
      "+-----------+-----------+-----------+-----------+-----------+----------+-------------+------------+------------+\n",
      "| March     | 176,151   | 268,089   | 114,427   | 252,871   | 103,849  | -1,351,783  | -142,322   | 789,472    |\n",
      "+-----------+-----------+-----------+-----------+-----------+----------+-------------+------------+------------+\n",
      "| April     | 165,271   | 351,323   | 135,095   | 274,064   | -119,614 | -2,195,485  | 628,130    | 929,918    |\n",
      "+-----------+-----------+-----------+-----------+-----------+----------+-------------+------------+------------+\n",
      "| May       | 152,715   | 384,065   | 184,253   | 208,921   | -137,045 | -2,361,903  | 131,961    | 1,779,302  |\n",
      "+-----------+-----------+-----------+-----------+-----------+----------+-------------+------------+------------+\n",
      "| June      | 253,255   | 119,273   | 88,613    | 272,709   | 144,056  | -2,129,780  | 81,915     | 1,751,067  |\n",
      "+-----------+-----------+-----------+-----------+-----------+----------+-------------+------------+------------+\n",
      "| July      | -87,693   | 373,030   | 237,207   | 212,359   | 29,857   | -2,045,210  | 88,729     | 1,606,842  |\n",
      "+-----------+-----------+-----------+-----------+-----------+----------+-------------+------------+------------+\n",
      "| August    | 95,145    | 313,262   | 116,419   | 154,302   | 79,164   | -2,140,190  | 449,677    | 1,499,417  |\n",
      "+-----------+-----------+-----------+-----------+-----------+----------+-------------+------------+------------+\n",
      "| September | 57,837    | 244,788   | 289,694   | 201,780   | -79,772  | -2,049,665  | 657,246    | 1,219,938  |\n",
      "+-----------+-----------+-----------+-----------+-----------+----------+-------------+------------+------------+\n",
      "| October   | 271,667   | 235,665   | 273,404   | 75,719    | 70,277   | -1,772,703  | 723,895    | 903,496    |\n",
      "+-----------+-----------+-----------+-----------+-----------+----------+-------------+------------+------------+\n",
      "| November  | -49,557   | 332,493   | 135,085   | 231,672   | 59,358   | -1,738,175  | 779,190    | 724,665    |\n",
      "+-----------+-----------+-----------+-----------+-----------+----------+-------------+------------+------------+\n",
      "| December  | 397       | 273,937   | 292,507   | 68,166    | 154,853  | -1,780,461  | 852,327    | 727,368    |\n",
      "+-----------+-----------+-----------+-----------+-----------+----------+-------------+------------+------------+\n",
      "| Overall   | 1,171,729 | 3,522,040 | 2,070,962 | 2,353,527 | 528,550  | -19,530,468 | 1,256,749  | 13,051,419 |\n",
      "+-----------+-----------+-----------+-----------+-----------+----------+-------------+------------+------------+\n",
      "Table 1: increase and decrease in no. of Departures from last year for each month and year as a whlole.\n",
      "\n"
     ]
    }
   ],
   "source": [
    "print(tabulate(change_df, headers='keys', tablefmt='grid'))\n",
    "print('Table 1: increase and decrease in no. of Departures from last year for each month and year as a whlole.\\n')\n"
   ]
  },
  {
   "cell_type": "code",
   "execution_count": 13,
   "metadata": {},
   "outputs": [
    {
     "name": "stdout",
     "output_type": "stream",
     "text": [
      "+-----------+-------------------------------------+-------------------------------------+\n",
      "|           |   year with maximum positive change |   year with maximum negative change |\n",
      "+===========+=====================================+=====================================+\n",
      "| January   |                                2022 |                                2021 |\n",
      "+-----------+-------------------------------------+-------------------------------------+\n",
      "| February  |                                2022 |                                2021 |\n",
      "+-----------+-------------------------------------+-------------------------------------+\n",
      "| March     |                                2022 |                                2020 |\n",
      "+-----------+-------------------------------------+-------------------------------------+\n",
      "| April     |                                2022 |                                2020 |\n",
      "+-----------+-------------------------------------+-------------------------------------+\n",
      "| May       |                                2022 |                                2020 |\n",
      "+-----------+-------------------------------------+-------------------------------------+\n",
      "| June      |                                2022 |                                2020 |\n",
      "+-----------+-------------------------------------+-------------------------------------+\n",
      "| July      |                                2022 |                                2020 |\n",
      "+-----------+-------------------------------------+-------------------------------------+\n",
      "| August    |                                2022 |                                2020 |\n",
      "+-----------+-------------------------------------+-------------------------------------+\n",
      "| September |                                2022 |                                2020 |\n",
      "+-----------+-------------------------------------+-------------------------------------+\n",
      "| October   |                                2022 |                                2020 |\n",
      "+-----------+-------------------------------------+-------------------------------------+\n",
      "| November  |                                2021 |                                2020 |\n",
      "+-----------+-------------------------------------+-------------------------------------+\n",
      "| December  |                                2021 |                                2020 |\n",
      "+-----------+-------------------------------------+-------------------------------------+\n",
      "| Overall   |                                2022 |                                2020 |\n",
      "+-----------+-------------------------------------+-------------------------------------+\n",
      "Table 2: Years which saw maximum increase and decrease in Departure compared to previous year for each month and year as a whole.\n",
      "\n"
     ]
    }
   ],
   "source": [
    "print(tabulate(min_max_df, headers='keys', tablefmt='grid'))\n",
    "print('Table 2: Years which saw maximum increase and decrease in Departure compared to previous year for each month and year as a whole.\\n')"
   ]
  },
  {
   "cell_type": "code",
   "execution_count": 14,
   "metadata": {},
   "outputs": [
    {
     "name": "stdout",
     "output_type": "stream",
     "text": [
      "+-----------+--------+--------+--------+--------+--------+--------+----------+----------+\n",
      "|           |   2014 |   2016 |   2017 |   2018 |   2019 |   2020 | 2021     | 2022     |\n",
      "+===========+========+========+========+========+========+========+==========+==========+\n",
      "| January   |   6.6  |  22.97 |   5.12 |  14.03 |   3.17 |   1.91 | -70.7    | 89.18    |\n",
      "+-----------+--------+--------+--------+--------+--------+--------+----------+----------+\n",
      "| February  |   3.31 |  20.88 |   6.77 |   7.32 |   8.29 |  -0.46 | -67.07   | 77.35    |\n",
      "+-----------+--------+--------+--------+--------+--------+--------+----------+----------+\n",
      "| March     |  13.68 |  18.31 |   6.61 |  13.7  |   4.95 | -61.36 | -16.72   | 111.35   |\n",
      "+-----------+--------+--------+--------+--------+--------+--------+----------+----------+\n",
      "| April     |  11.84 |  22.5  |   7.06 |  13.38 |  -5.15 | -99.7  | 9,614.73 | 146.52   |\n",
      "+-----------+--------+--------+--------+--------+--------+--------+----------+----------+\n",
      "| May       |   9.59 |  22.01 |   8.66 |   9.03 |  -5.43 | -99.04 | 575.95   | 1,148.88 |\n",
      "+-----------+--------+--------+--------+--------+--------+--------+----------+----------+\n",
      "| June      |  19.18 |   7.58 |   5.23 |  15.31 |   7.01 | -96.87 | 119.06   | 1,161.82 |\n",
      "+-----------+--------+--------+--------+--------+--------+--------+----------+----------+\n",
      "| July      |  -6.19 |  28.09 |  13.95 |  10.96 |   1.39 | -93.8  | 65.61    | 717.48   |\n",
      "+-----------+--------+--------+--------+--------+--------+--------+----------+----------+\n",
      "| August    |   5.97 |  18.55 |   5.82 |   7.28 |   3.48 | -91.01 | 212.6    | 226.78   |\n",
      "+-----------+--------+--------+--------+--------+--------+--------+----------+----------+\n",
      "| September |   3.53 |  14.42 |  14.91 |   9.04 |  -3.28 | -87.06 | 215.65   | 126.81   |\n",
      "+-----------+--------+--------+--------+--------+--------+--------+----------+----------+\n",
      "| October   |  22.3  |  15.82 |  15.84 |   3.79 |   3.39 | -82.64 | 194.41   | 82.42    |\n",
      "+-----------+--------+--------+--------+--------+--------+--------+----------+----------+\n",
      "| November  |  -3.45 |  23.94 |   7.85 |  12.48 |   2.84 | -80.95 | 190.44   | 60.98    |\n",
      "+-----------+--------+--------+--------+--------+--------+--------+----------+----------+\n",
      "| December  |   0.03 |  17.49 |  15.89 |   3.2  |   7.04 | -75.57 | 148.1    | 50.94    |\n",
      "+-----------+--------+--------+--------+--------+--------+--------+----------+----------+\n",
      "| Overall   |   6.82 |  19.19 |   9.47 |   9.83 |   2.01 | -72.81 | 17.23    | 152.62   |\n",
      "+-----------+--------+--------+--------+--------+--------+--------+----------+----------+\n",
      "Table 3: percent increase and decrease in no. of departures from previous year for each month and year as a whlole.\n",
      "\n"
     ]
    }
   ],
   "source": [
    "print(tabulate(change_pdf, headers='keys', tablefmt='grid'))\n",
    "print('Table 3: percent increase and decrease in no. of departures from previous year for each month and year as a whlole.\\n')"
   ]
  },
  {
   "cell_type": "code",
   "execution_count": 15,
   "metadata": {},
   "outputs": [
    {
     "name": "stdout",
     "output_type": "stream",
     "text": [
      "+-----------+-------------------------------------+-------------------------------------+\n",
      "|           |   year with maximum positive change |   year with maximum negative change |\n",
      "+===========+=====================================+=====================================+\n",
      "| January   |                                2022 |                                2021 |\n",
      "+-----------+-------------------------------------+-------------------------------------+\n",
      "| February  |                                2022 |                                2021 |\n",
      "+-----------+-------------------------------------+-------------------------------------+\n",
      "| March     |                                2022 |                                2020 |\n",
      "+-----------+-------------------------------------+-------------------------------------+\n",
      "| April     |                                2021 |                                2020 |\n",
      "+-----------+-------------------------------------+-------------------------------------+\n",
      "| May       |                                2022 |                                2020 |\n",
      "+-----------+-------------------------------------+-------------------------------------+\n",
      "| June      |                                2022 |                                2020 |\n",
      "+-----------+-------------------------------------+-------------------------------------+\n",
      "| July      |                                2022 |                                2020 |\n",
      "+-----------+-------------------------------------+-------------------------------------+\n",
      "| August    |                                2022 |                                2020 |\n",
      "+-----------+-------------------------------------+-------------------------------------+\n",
      "| September |                                2021 |                                2020 |\n",
      "+-----------+-------------------------------------+-------------------------------------+\n",
      "| October   |                                2021 |                                2020 |\n",
      "+-----------+-------------------------------------+-------------------------------------+\n",
      "| November  |                                2021 |                                2020 |\n",
      "+-----------+-------------------------------------+-------------------------------------+\n",
      "| December  |                                2021 |                                2020 |\n",
      "+-----------+-------------------------------------+-------------------------------------+\n",
      "| Overall   |                                2022 |                                2020 |\n",
      "+-----------+-------------------------------------+-------------------------------------+\n",
      "Table 4: Years which saw maximum percent increase and decrease in departures compared to previous year for each month and year as a whole.\n",
      "\n"
     ]
    }
   ],
   "source": [
    "print(tabulate(min_max_pdf, headers='keys', tablefmt='grid'))\n",
    "print('Table 4: Years which saw maximum percent increase and decrease in departures compared to previous year for each month and year as a whole.\\n')"
   ]
  },
  {
   "cell_type": "code",
   "execution_count": 16,
   "metadata": {},
   "outputs": [
    {
     "name": "stdout",
     "output_type": "stream",
     "text": [
      "Maximum positive change occurred in August of 2021.\n",
      "Maximum negative change occurred in March of 2020\n"
     ]
    }
   ],
   "source": [
    "df_matrix2 = df_matrix[0:-1,:]\n",
    "df_matrix2 = np.transpose(df_matrix2)\n",
    "# print(df_matrix2)\n",
    "continous_data = df_matrix2.flatten()\n",
    "# print(continous_data)\n",
    "continous_diff = np.array([0]+[continous_data[i]-continous_data[i-1] for i in range(1,len(continous_data))])\n",
    "continous_diff[24] = 0 ## because it represents January of 2016 and we don't have data for 2015\n",
    "# print(continous_diff)\n",
    "\n",
    "max_pos = np.argmax(continous_diff)\n",
    "min_pos = np.argmin(continous_diff)\n",
    "\n",
    "print(f\"Maximum positive change occurred in {months[max_pos%12]} of {years[int(max_pos/12)]}.\")\n",
    "print(f\"Maximum negative change occurred in {months[min_pos%12]} of {years[int(min_pos/12)]}\")"
   ]
  },
  {
   "cell_type": "code",
   "execution_count": 17,
   "metadata": {},
   "outputs": [],
   "source": [
    "## storing continous data in database for later use\n",
    "\n",
    "db['q4/monthly departure data'] = continous_data"
   ]
  },
  {
   "cell_type": "code",
   "execution_count": 18,
   "metadata": {},
   "outputs": [
    {
     "name": "stdout",
     "output_type": "stream",
     "text": [
      "On average month of August saw maximum positive change in a year\n",
      "On average month of February saw maximum negative change in a year\n"
     ]
    }
   ],
   "source": [
    "df_diff = continous_diff.reshape(-1,12)\n",
    "df_diff = np.transpose(df_diff)\n",
    "january_avg_diff = np.mean(np.array([ele for ele in df_diff[0] if ele])) ## calculating avg decrease seen by january only for years when data from previous year's december is available\n",
    "# print(january_avg_diff)\n",
    "df_diff[0][0] = january_avg_diff \n",
    "df_diff[0][2] = january_avg_diff ## replacing 0 with avg diff of january to fill missing data of january\n",
    "# print(df_diff)\n",
    "\n",
    "median_diff = np.array([np.mean(row) for row in df_diff]) ## average increase or decrease of each month over all years\n",
    "# print(mean_diff)\n",
    "print(f\"On average month of {months[np.argmax(median_diff)]} saw maximum positive change in a year\")\n",
    "print(f\"On average month of {months[np.argmin(median_diff)]} saw maximum negative change in a year\")"
   ]
  },
  {
   "cell_type": "code",
   "execution_count": null,
   "metadata": {},
   "outputs": [],
   "source": []
  }
 ],
 "metadata": {
  "kernelspec": {
   "display_name": "Python 3",
   "language": "python",
   "name": "python3"
  },
  "language_info": {
   "codemirror_mode": {
    "name": "ipython",
    "version": 3
   },
   "file_extension": ".py",
   "mimetype": "text/x-python",
   "name": "python",
   "nbconvert_exporter": "python",
   "pygments_lexer": "ipython3",
   "version": "3.12.6"
  }
 },
 "nbformat": 4,
 "nbformat_minor": 2
}
