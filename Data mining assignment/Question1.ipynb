{
 "cells": [
  {
   "cell_type": "code",
   "execution_count": 78,
   "metadata": {},
   "outputs": [],
   "source": [
    "import pandas as pd\n",
    "import numpy as np\n",
    "import os\n",
    "from tabulate import tabulate \n",
    "from pickleshare import *"
   ]
  },
  {
   "cell_type": "code",
   "execution_count": 79,
   "metadata": {},
   "outputs": [],
   "source": [
    "# using pickelshare to temporarily store some variables to transfer them to other notebooks\n",
    "db = PickleShareDB(os.path.join(os.getcwd(),'SharedVars'))\n",
    "# db.clear()"
   ]
  },
  {
   "cell_type": "markdown",
   "metadata": {},
   "source": [
    "<i>Question 1</i>"
   ]
  },
  {
   "cell_type": "markdown",
   "metadata": {},
   "source": [
    "For every year, find the change in incoming tourists in absolute and percentage terms from the last year.<br>\n",
    "Do this for every month and the year as a whole.<br>\n",
    "Which years show the highest positive and negative changes?<br>\n",
    "For each month, find the changes across the entire data from the previous month.<br>\n",
    "Which months show the highest positive and negative changes?"
   ]
  },
  {
   "cell_type": "code",
   "execution_count": 80,
   "metadata": {},
   "outputs": [],
   "source": [
    "#create empty dataframe\n",
    "df = pd.DataFrame()"
   ]
  },
  {
   "cell_type": "code",
   "execution_count": 81,
   "metadata": {},
   "outputs": [],
   "source": [
    "def to_int(input):\n",
    "    datatype = type(input)\n",
    "    if datatype is float or datatype is int:\n",
    "        return int(input)\n",
    "    if datatype is str:\n",
    "        return int(''.join(input.split(',')))"
   ]
  },
  {
   "cell_type": "code",
   "execution_count": 82,
   "metadata": {},
   "outputs": [],
   "source": [
    "df13 = pd.read_excel(r\"data\\TourismData-2013\\MONTH-WISE NUMBER & PERCENTAGE SHARE OF FTAs IN INDIA1.xlsx\")\n",
    "df['2013'] = df13['Forign tourist arrivals'][1:13]\n",
    "\n",
    "df14 = pd.read_excel(r\"data\\TourismData-2014\\MONTH-WISE NUMBER & PERCENTAGE SHARE OF FTAs IN INDIA.xlsx\")\n",
    "df['2014'] = df14['Foreign Tourist Arrivals (Nos.)'][1:13]\n",
    "\n",
    "df16 = pd.read_excel(r\"data\\TourismData-2016\\MONTH-WISE NUMBER & PERCENTAGE SHARE OF FTAs IN INDIA.xlsx\")\n",
    "df['2016'] = df16['Forign Tourist Arrivals'][1:13]\n",
    "\n",
    "df17 = pd.read_excel(r\"data\\TourismData-2017\\MONTH-WISE NUMBER & PERCENTAGE SHARE OF FTAs IN INDIA.xlsx\")\n",
    "df['2017'] = df17['Unnamed: 1'][1:13]\n",
    "\n",
    "df18 = pd.read_excel(r\"data\\TourismData-2018\\MONTH-WISE NUMBER & PERCENTAGE SHARE OF FTAs IN INDIA.xlsx\")\n",
    "df['2018'] = df18['Unnamed: 1'][1:13]\n",
    "\n",
    "df19 = pd.read_excel(r\"data\\TourismData-2019\\MONTH-WISE NUMBER & PERCENTAGE SHARE OF FTAs IN INDIA.xlsx\")\n",
    "df['2019'] = [int(ele) for ele in df19[2019][1:13].tolist()]\n",
    "\n",
    "df20 = pd.read_excel(r\"data\\TourismData-2020\\MONTH-WISE NUMBER & PERCENTAGE SHARE OF FTAs IN INDIA.xlsx\")\n",
    "df['2020'] = [to_int(ele) for ele in df20[2020][1:13].tolist()]\n",
    "\n",
    "df21 = pd.read_excel(r\"data\\TourismData-2021\\MONTH-WISE NUMBER & PERCENTAGE SHARE OF FTAs IN INDIA.xlsx\")\n",
    "df['2021'] = [to_int(ele) for ele in df21[2021][1:13].tolist()]\n",
    "\n",
    "df22 = pd.read_excel(r\"data\\TourismData-2022\\MONTH-WISE NUMBER & PERCENTAGE SHARE OF FTAs IN INDIA1.xlsx\")\n",
    "df['2022'] = [to_int(ele) for ele in df22[2022][:12].tolist()]\n",
    "\n",
    "df.loc['Total'] = df.sum()"
   ]
  },
  {
   "cell_type": "code",
   "execution_count": 83,
   "metadata": {},
   "outputs": [],
   "source": [
    "yearly_total = df.iloc[-1,:].tolist()\n",
    "# print(yearly_total)\n",
    "\n",
    "df_matrix = df.to_numpy()\n",
    "# print(df_matrix)\n",
    "# print(type(df_matrix))"
   ]
  },
  {
   "cell_type": "code",
   "execution_count": 84,
   "metadata": {},
   "outputs": [],
   "source": [
    "change = []\n",
    "for i in range(len(df_matrix)):\n",
    "    change.append([df_matrix[i][j]-df_matrix[i][j-1] for j in range(1,len(df_matrix[i]))])\n",
    "change = np.array(change)\n",
    "# print(change)"
   ]
  },
  {
   "cell_type": "code",
   "execution_count": 85,
   "metadata": {},
   "outputs": [],
   "source": [
    "change_percent = []\n",
    "for i in range(len(change)):\n",
    "    change_percent.append([round(change[i][j]*100/df_matrix[i][j],2) for j in range(len(change[i]))])\n",
    "change_percent = np.array(change_percent)\n",
    "# print(change_percent)"
   ]
  },
  {
   "cell_type": "code",
   "execution_count": 86,
   "metadata": {},
   "outputs": [],
   "source": [
    "ans_abs = {}\n",
    "ans_percent = {}\n",
    "months = df13['Month'].tolist()[1:]\n",
    "months.append('Annual Total')\n",
    "years = ['2014','2016','2017','2018','2019','2020','2021','2022']\n",
    "\n",
    "ans_abs['Months'] = months\n",
    "ans_percent['Months'] = months\n",
    "for i in range(len(years)):\n",
    "    ans_abs[years[i]] = change[:,i].tolist()\n",
    "    ans_percent[years[i]] = change_percent[:,i].tolist()"
   ]
  },
  {
   "cell_type": "code",
   "execution_count": 87,
   "metadata": {},
   "outputs": [],
   "source": [
    "min_max_abs = {}\n",
    "min_max_percent = {}\n",
    "\n",
    "min_max_abs['Months'] = months\n",
    "min_max_abs['year with maximum increase'] = [years[np.argmax(row)] for row in change]\n",
    "min_max_abs['year with maximum decrease'] = [years[np.argmin(row)] for row in change]\n",
    "\n",
    "min_max_percent['Months'] = months\n",
    "min_max_percent['year with maximum increase'] = [years[np.argmax(row)] for row in change_percent]\n",
    "min_max_percent['year with maximum decrease'] = [years[np.argmin(row)] for row in change_percent]"
   ]
  },
  {
   "cell_type": "code",
   "execution_count": 88,
   "metadata": {},
   "outputs": [
    {
     "name": "stdout",
     "output_type": "stream",
     "text": [
      "+----+--------------+---------+----------+---------+--------+--------+----------+----------+---------+\n",
      "|    | Months       |    2014 |     2016 |    2017 |   2018 |   2019 |     2020 |     2021 |    2022 |\n",
      "+====+==============+=========+==========+=========+========+========+==========+==========+=========+\n",
      "|  0 | January      |   37465 |    86747 |  119576 |  80918 |  66013 |     8210 | -1024588 |  121273 |\n",
      "+----+--------------+---------+----------+---------+--------+--------+----------+----------+---------+\n",
      "|  1 | February     |   67109 |    93104 |   82243 | 118234 |  41257 |   -72076 |  -908128 |  144226 |\n",
      "+----+--------------+---------+----------+---------+--------+--------+----------+----------+---------+\n",
      "|  2 | March        |   50911 |   118666 |   76829 | 135603 | -43303 |  -649932 |  -194536 |  224255 |\n",
      "+----+--------------+---------+----------+---------+--------+--------+----------+----------+---------+\n",
      "|  3 | April        |   84741 |    56683 |  125895 |  27134 |  29618 |  -771831 |    75898 |  332292 |\n",
      "+----+--------------+---------+----------+---------+--------+--------+----------+----------+---------+\n",
      "|  4 | May          |   47590 |    62423 |   94942 | -15895 |   8623 |  -611372 |    16001 |  425925 |\n",
      "+----+--------------+---------+----------+---------+--------+--------+----------+----------+---------+\n",
      "|  5 | June         |   50805 |    44944 |  116498 |  20465 |  42511 |  -717856 |    27480 |  511004 |\n",
      "+----+--------------+---------+----------+---------+--------+--------+----------+----------+---------+\n",
      "|  6 | July         | 5182444 | -4955037 |   45475 |  27184 |  11632 |  -805470 |    59846 |  596998 |\n",
      "+----+--------------+---------+----------+---------+--------+--------+----------+----------+---------+\n",
      "|  7 | August       |   89412 |    76361 |   67018 |  66864 |  14844 |  -781076 |    72967 |  432028 |\n",
      "+----+--------------+---------+----------+---------+--------+--------+----------+----------+---------+\n",
      "|  8 | September    |   55581 |    99035 |  111787 |    -70 |  31619 |  -723346 |    87494 |  435919 |\n",
      "+----+--------------+---------+----------+---------+--------+--------+----------+----------+---------+\n",
      "|  9 | October      |   70303 |    73372 |  125206 |  23247 |  54794 |  -903523 |   149921 |  485640 |\n",
      "+----+--------------+---------+----------+---------+--------+--------+----------+----------+---------+\n",
      "| 10 | November     |   31574 |   112783 |  119458 |  14831 |  79871 | -1021463 |   192890 |  525463 |\n",
      "+----+--------------+---------+----------+---------+--------+--------+----------+----------+---------+\n",
      "| 11 | December     |   63563 |   136231 |  146465 |  23658 |  34900 | -1135854 |   227103 |  675330 |\n",
      "+----+--------------+---------+----------+---------+--------+--------+----------+----------+---------+\n",
      "| 12 | Annual Total | 5831498 | -3994688 | 1231392 | 522173 | 372379 | -8185589 | -1217652 | 4910353 |\n",
      "+----+--------------+---------+----------+---------+--------+--------+----------+----------+---------+\n",
      "Table 1: increase and decrease in no. of tourists from previous year for each month and year as a whlole.\n",
      "\n"
     ]
    }
   ],
   "source": [
    "print(tabulate(pd.DataFrame(ans_abs), headers='keys', tablefmt='grid'))\n",
    "print('Table 1: increase and decrease in no. of tourists from previous year for each month and year as a whlole.\\n')"
   ]
  },
  {
   "cell_type": "code",
   "execution_count": 89,
   "metadata": {},
   "outputs": [
    {
     "name": "stdout",
     "output_type": "stream",
     "text": [
      "+----+--------------+------------------------------+------------------------------+\n",
      "|    | Months       |   year with maximum increase |   year with maximum decrease |\n",
      "+====+==============+==============================+==============================+\n",
      "|  0 | January      |                         2022 |                         2021 |\n",
      "+----+--------------+------------------------------+------------------------------+\n",
      "|  1 | February     |                         2022 |                         2021 |\n",
      "+----+--------------+------------------------------+------------------------------+\n",
      "|  2 | March        |                         2022 |                         2020 |\n",
      "+----+--------------+------------------------------+------------------------------+\n",
      "|  3 | April        |                         2022 |                         2020 |\n",
      "+----+--------------+------------------------------+------------------------------+\n",
      "|  4 | May          |                         2022 |                         2020 |\n",
      "+----+--------------+------------------------------+------------------------------+\n",
      "|  5 | June         |                         2022 |                         2020 |\n",
      "+----+--------------+------------------------------+------------------------------+\n",
      "|  6 | July         |                         2014 |                         2016 |\n",
      "+----+--------------+------------------------------+------------------------------+\n",
      "|  7 | August       |                         2022 |                         2020 |\n",
      "+----+--------------+------------------------------+------------------------------+\n",
      "|  8 | September    |                         2022 |                         2020 |\n",
      "+----+--------------+------------------------------+------------------------------+\n",
      "|  9 | October      |                         2022 |                         2020 |\n",
      "+----+--------------+------------------------------+------------------------------+\n",
      "| 10 | November     |                         2022 |                         2020 |\n",
      "+----+--------------+------------------------------+------------------------------+\n",
      "| 11 | December     |                         2022 |                         2020 |\n",
      "+----+--------------+------------------------------+------------------------------+\n",
      "| 12 | Annual Total |                         2014 |                         2020 |\n",
      "+----+--------------+------------------------------+------------------------------+\n",
      "Table 2: Years which saw maximum increase and decrease in tourist for each month and year as a whole.\n",
      "\n"
     ]
    }
   ],
   "source": [
    "print(tabulate(pd.DataFrame(min_max_abs), headers='keys', tablefmt='grid'))\n",
    "print('Table 2: Years which saw maximum increase and decrease in tourist for each month and year as a whole.\\n')"
   ]
  },
  {
   "cell_type": "code",
   "execution_count": 90,
   "metadata": {},
   "outputs": [
    {
     "name": "stdout",
     "output_type": "stream",
     "text": [
      "+----+--------------+---------+--------+--------+--------+--------+--------+---------+---------+\n",
      "|    | Months       |    2014 |   2016 |   2017 |   2018 |   2019 |   2020 |    2021 |    2022 |\n",
      "+====+==============+=========+========+========+========+========+========+=========+=========+\n",
      "|  0 | January      |    5.2  |  11.45 |  14.16 |   8.39 |   6.32 |   0.74 |  -91.54 |  128.11 |\n",
      "+----+--------------+---------+--------+--------+--------+--------+--------+---------+---------+\n",
      "|  1 | February     |    9.75 |  12.32 |   9.69 |  12.7  |   3.93 |  -6.61 |  -89.17 |  130.74 |\n",
      "+----+--------------+---------+--------+--------+--------+--------+--------+---------+---------+\n",
      "|  2 | March        |    7.96 |  17.19 |   9.5  |  15.31 |  -4.24 | -66.44 |  -59.25 |  167.64 |\n",
      "+----+--------------+---------+--------+--------+--------+--------+--------+---------+---------+\n",
      "|  3 | April        |   18.81 |  10.59 |  21.27 |   3.78 |   3.98 | -99.64 | 2691.42 |  422.13 |\n",
      "+----+--------------+---------+--------+--------+--------+--------+--------+---------+---------+\n",
      "|  4 | May          |   11.4  |  13.42 |  18    |  -2.55 |   1.42 | -99.39 |  425.11 | 2154.95 |\n",
      "+----+--------------+---------+--------+--------+--------+--------+--------+---------+---------+\n",
      "|  5 | June         |   11.26 |   8.95 |  21.3  |   3.08 |   6.22 | -98.82 |  319.91 | 1416.7  |\n",
      "+----+--------------+---------+--------+--------+--------+--------+--------+---------+---------+\n",
      "|  6 | July         | 1023.33 | -87.1  |   6.2  |   3.49 |   1.44 | -98.45 |  472.9  |  823.43 |\n",
      "+----+--------------+---------+--------+--------+--------+--------+--------+---------+---------+\n",
      "|  7 | August       |   18.38 |  13.26 |  10.28 |   9.3  |   1.89 | -97.53 |  369.25 |  465.91 |\n",
      "+----+--------------+---------+--------+--------+--------+--------+--------+---------+---------+\n",
      "|  8 | September    |   12.25 |  19.45 |  18.38 |  -0.01 |   4.39 | -96.25 |  310.63 |  376.89 |\n",
      "+----+--------------+---------+--------+--------+--------+--------+--------+---------+---------+\n",
      "|  9 | October      |   11.75 |  10.98 |  16.88 |   2.68 |   6.16 | -95.61 |  361.31 |  253.71 |\n",
      "+----+--------------+---------+--------+--------+--------+--------+--------+---------+---------+\n",
      "| 10 | November     |    4.3  |  14.73 |  13.6  |   1.49 |   7.89 | -93.5  |  271.76 |  199.14 |\n",
      "+----+--------------+---------+--------+--------+--------+--------+--------+---------+---------+\n",
      "| 11 | December     |    7.74 |  15.39 |  14.34 |   2.03 |   2.93 | -92.62 |  250.82 |  212.6  |\n",
      "+----+--------------+---------+--------+--------+--------+--------+--------+---------+---------+\n",
      "| 12 | Annual Total |   83.69 | -31.21 |  13.99 |   5.2  |   3.53 | -74.89 |  -44.36 |  321.54 |\n",
      "+----+--------------+---------+--------+--------+--------+--------+--------+---------+---------+\n",
      "Table 3: percent increase and decrease in no. of tourists from previous year for each month and year as a whlole.\n",
      "\n"
     ]
    }
   ],
   "source": [
    "print(tabulate(pd.DataFrame(ans_percent), headers='keys', tablefmt='grid'))\n",
    "print('Table 3: percent increase and decrease in no. of tourists from previous year for each month and year as a whlole.\\n')"
   ]
  },
  {
   "cell_type": "code",
   "execution_count": 91,
   "metadata": {},
   "outputs": [
    {
     "name": "stdout",
     "output_type": "stream",
     "text": [
      "+----+--------------+------------------------------+------------------------------+\n",
      "|    | Months       |   year with maximum increase |   year with maximum decrease |\n",
      "+====+==============+==============================+==============================+\n",
      "|  0 | January      |                         2022 |                         2021 |\n",
      "+----+--------------+------------------------------+------------------------------+\n",
      "|  1 | February     |                         2022 |                         2021 |\n",
      "+----+--------------+------------------------------+------------------------------+\n",
      "|  2 | March        |                         2022 |                         2020 |\n",
      "+----+--------------+------------------------------+------------------------------+\n",
      "|  3 | April        |                         2021 |                         2020 |\n",
      "+----+--------------+------------------------------+------------------------------+\n",
      "|  4 | May          |                         2022 |                         2020 |\n",
      "+----+--------------+------------------------------+------------------------------+\n",
      "|  5 | June         |                         2022 |                         2020 |\n",
      "+----+--------------+------------------------------+------------------------------+\n",
      "|  6 | July         |                         2014 |                         2020 |\n",
      "+----+--------------+------------------------------+------------------------------+\n",
      "|  7 | August       |                         2022 |                         2020 |\n",
      "+----+--------------+------------------------------+------------------------------+\n",
      "|  8 | September    |                         2022 |                         2020 |\n",
      "+----+--------------+------------------------------+------------------------------+\n",
      "|  9 | October      |                         2021 |                         2020 |\n",
      "+----+--------------+------------------------------+------------------------------+\n",
      "| 10 | November     |                         2021 |                         2020 |\n",
      "+----+--------------+------------------------------+------------------------------+\n",
      "| 11 | December     |                         2021 |                         2020 |\n",
      "+----+--------------+------------------------------+------------------------------+\n",
      "| 12 | Annual Total |                         2022 |                         2020 |\n",
      "+----+--------------+------------------------------+------------------------------+\n",
      "Table 4: Years which saw maximum percent increase and decrease in tourist for each month and year as a whole.\n",
      "\n"
     ]
    }
   ],
   "source": [
    "print(tabulate(pd.DataFrame(min_max_percent), headers='keys', tablefmt='grid'))\n",
    "print('Table 4: Years which saw maximum percent increase and decrease in tourist for each month and year as a whole.\\n')"
   ]
  },
  {
   "cell_type": "code",
   "execution_count": 92,
   "metadata": {},
   "outputs": [
    {
     "name": "stdout",
     "output_type": "stream",
     "text": [
      "Maximum positive change occurred in July of 2014.\n",
      "Maximum negative change occurred in August of 2014\n"
     ]
    }
   ],
   "source": [
    "df_matrix2 = df_matrix[0:-1,:]\n",
    "df_matrix2 = np.transpose(df_matrix2)\n",
    "# print(df_matrix2)\n",
    "continous_data = df_matrix2.flatten()\n",
    "# print(continous_data)\n",
    "continous_diff = np.array([0]+[continous_data[i]-continous_data[i-1] for i in range(1,len(continous_data))])\n",
    "continous_diff[24] = 0 ## because it represents January of 2016 and we don't have data for 2015\n",
    "# print(continous_diff)\n",
    "\n",
    "years_all = ['2013']+years\n",
    "\n",
    "max_pos = np.argmax(continous_diff)\n",
    "min_pos = np.argmin(continous_diff)\n",
    "\n",
    "print(f\"Maximum positive change occurred in {months[max_pos%12]} of {years_all[int(max_pos/12)]}.\")\n",
    "print(f\"Maximum negative change occurred in {months[min_pos%12]} of {years_all[int(min_pos/12)]}\")\n"
   ]
  },
  {
   "cell_type": "code",
   "execution_count": 93,
   "metadata": {},
   "outputs": [],
   "source": [
    "## storing continous data in database for later use\n",
    "\n",
    "db['q1/monthly FTA data'] = continous_data"
   ]
  },
  {
   "cell_type": "code",
   "execution_count": 94,
   "metadata": {},
   "outputs": [
    {
     "name": "stdout",
     "output_type": "stream",
     "text": [
      "On average month of October saw maximum positive change in a year\n",
      "On average month of April saw maximum negative change in a year\n"
     ]
    }
   ],
   "source": [
    "df_diff = continous_diff.reshape(-1,12)\n",
    "df_diff = np.transpose(df_diff)\n",
    "january_avg_diff = np.mean(np.array([ele for ele in df_diff[0] if ele])) ## calculating avg decrease seen by january only for years when data from previous year's december is available\n",
    "# print(january_avg_diff)\n",
    "df_diff[0][0] = january_avg_diff \n",
    "df_diff[0][2] = january_avg_diff ## replacing 0 with avg diff of january to fill missing data of january\n",
    "# print(df_diff)\n",
    "\n",
    "median_diff = np.array([np.median(row) for row in df_diff]) ## median increase or decrease of each month over all years; used median to remove the effect of outlier that is july 2014\n",
    "# print(mean_diff)\n",
    "print(f\"On average month of {months[np.argmax(median_diff)]} saw maximum positive change in a year\")\n",
    "print(f\"On average month of {months[np.argmin(median_diff)]} saw maximum negative change in a year\")"
   ]
  },
  {
   "cell_type": "code",
   "execution_count": null,
   "metadata": {},
   "outputs": [],
   "source": []
  }
 ],
 "metadata": {
  "kernelspec": {
   "display_name": "Python 3",
   "language": "python",
   "name": "python3"
  },
  "language_info": {
   "codemirror_mode": {
    "name": "ipython",
    "version": 3
   },
   "file_extension": ".py",
   "mimetype": "text/x-python",
   "name": "python",
   "nbconvert_exporter": "python",
   "pygments_lexer": "ipython3",
   "version": "3.12.6"
  }
 },
 "nbformat": 4,
 "nbformat_minor": 2
}
